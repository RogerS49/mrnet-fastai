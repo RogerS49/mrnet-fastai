{
 "cells": [
  {
   "cell_type": "code",
   "execution_count": 1,
   "metadata": {},
   "outputs": [],
   "source": [
    "import numpy as np\n",
    "import pandas as pd\n",
    "import matplotlib.pyplot as plt\n",
    "from fastai.vision import *\n",
    "import torch\n",
    "\n",
    "from mrnet_orig import *\n",
    "\n",
    "%matplotlib inline"
   ]
  },
  {
   "cell_type": "code",
   "execution_count": 2,
   "metadata": {},
   "outputs": [
    {
     "name": "stdout",
     "output_type": "stream",
     "text": [
      "\u001b[01;34m..\u001b[00m\r\n",
      "├── \u001b[01;34mdata\u001b[00m\r\n",
      "│   ├── \u001b[01;34maxial\u001b[00m\r\n",
      "│   │   ├── \u001b[01;34mtrain\u001b[00m\r\n",
      "│   │   └── \u001b[01;34mvalid\u001b[00m\r\n",
      "│   ├── \u001b[01;34mcoronal\u001b[00m\r\n",
      "│   │   ├── \u001b[01;34mtrain\u001b[00m\r\n",
      "│   │   └── \u001b[01;34mvalid\u001b[00m\r\n",
      "│   └── \u001b[01;34msagittal\u001b[00m\r\n",
      "│       ├── \u001b[01;34mmodels\u001b[00m\r\n",
      "│       ├── \u001b[01;34mtrain\u001b[00m\r\n",
      "│       └── \u001b[01;34mvalid\u001b[00m\r\n",
      "└── \u001b[01;34mmrnet-fastai\u001b[00m\r\n",
      "    ├── \u001b[01;34mexp\u001b[00m\r\n",
      "    └── \u001b[01;34m__pycache__\u001b[00m\r\n",
      "\r\n",
      "14 directories\r\n"
     ]
    }
   ],
   "source": [
    "! tree -d .."
   ]
  },
  {
   "cell_type": "code",
   "execution_count": 3,
   "metadata": {},
   "outputs": [
    {
     "name": "stdout",
     "output_type": "stream",
     "text": [
      "df_abnl.pkl  loss_weights.pt\t\t mrnet_orig.py\tslice_stats.json\r\n",
      "exp\t     MRNet_EDA.ipynb\t\t __pycache__\ttrain_cases.pkl\r\n",
      "LICENSE      MRNet_fastai_example.ipynb  README.md\ttrain_pix_distr.pkl\r\n"
     ]
    }
   ],
   "source": [
    "! ls"
   ]
  },
  {
   "cell_type": "code",
   "execution_count": 4,
   "metadata": {},
   "outputs": [
    {
     "name": "stdout",
     "output_type": "stream",
     "text": [
      "axial\t  train-abnormal.csv  valid-abnormal.csv\r\n",
      "coronal   train-acl.csv       valid-acl.csv\r\n",
      "sagittal  train-meniscus.csv  valid-meniscus.csv\r\n"
     ]
    }
   ],
   "source": [
    "! ls ../data"
   ]
  },
  {
   "cell_type": "code",
   "execution_count": 5,
   "metadata": {},
   "outputs": [],
   "source": [
    "data_path = Path('../data')\n",
    "sag_path = data_path/'sagittal'\n",
    "cor_path = data_path/'coronal'\n",
    "ax_path = data_path/'axial'"
   ]
  },
  {
   "cell_type": "markdown",
   "metadata": {},
   "source": [
    "## Substantial class imbalance for the normal/abnormal task\n",
    "\n",
    "Given this, we'll derive weights for a weighted binary cross entropy loss function."
   ]
  },
  {
   "cell_type": "code",
   "execution_count": 6,
   "metadata": {},
   "outputs": [
    {
     "name": "stdout",
     "output_type": "stream",
     "text": [
      "(1130, 2)\n"
     ]
    },
    {
     "data": {
      "text/html": [
       "<div>\n",
       "<style scoped>\n",
       "    .dataframe tbody tr th:only-of-type {\n",
       "        vertical-align: middle;\n",
       "    }\n",
       "\n",
       "    .dataframe tbody tr th {\n",
       "        vertical-align: top;\n",
       "    }\n",
       "\n",
       "    .dataframe thead th {\n",
       "        text-align: right;\n",
       "    }\n",
       "</style>\n",
       "<table border=\"1\" class=\"dataframe\">\n",
       "  <thead>\n",
       "    <tr style=\"text-align: right;\">\n",
       "      <th></th>\n",
       "      <th>Case</th>\n",
       "      <th>Abnormal</th>\n",
       "    </tr>\n",
       "  </thead>\n",
       "  <tbody>\n",
       "    <tr>\n",
       "      <th>0</th>\n",
       "      <td>0000</td>\n",
       "      <td>1</td>\n",
       "    </tr>\n",
       "    <tr>\n",
       "      <th>1</th>\n",
       "      <td>0001</td>\n",
       "      <td>1</td>\n",
       "    </tr>\n",
       "    <tr>\n",
       "      <th>2</th>\n",
       "      <td>0002</td>\n",
       "      <td>1</td>\n",
       "    </tr>\n",
       "    <tr>\n",
       "      <th>3</th>\n",
       "      <td>0003</td>\n",
       "      <td>1</td>\n",
       "    </tr>\n",
       "    <tr>\n",
       "      <th>4</th>\n",
       "      <td>0004</td>\n",
       "      <td>1</td>\n",
       "    </tr>\n",
       "  </tbody>\n",
       "</table>\n",
       "</div>"
      ],
      "text/plain": [
       "   Case  Abnormal\n",
       "0  0000         1\n",
       "1  0001         1\n",
       "2  0002         1\n",
       "3  0003         1\n",
       "4  0004         1"
      ]
     },
     "execution_count": 6,
     "metadata": {},
     "output_type": "execute_result"
    }
   ],
   "source": [
    "train_abnl = pd.read_csv(data_path/'train-abnormal.csv', header=None,\n",
    "                       names=['Case', 'Abnormal'], \n",
    "                       dtype={'Case': str, 'Abnormal': np.int64})\n",
    "print(train_abnl.shape)\n",
    "train_abnl.head()"
   ]
  },
  {
   "cell_type": "code",
   "execution_count": 7,
   "metadata": {},
   "outputs": [
    {
     "name": "stdout",
     "output_type": "stream",
     "text": [
      "0.8079646017699115\n",
      "tensor([0.8080, 0.1920])\n"
     ]
    }
   ],
   "source": [
    "w = train_abnl.Abnormal.sum() / train_abnl.shape[0]\n",
    "print(w)\n",
    "weights = Tensor([w, 1-w])\n",
    "print(weights)\n",
    "torch.save(weights, 'loss_weights.pt')"
   ]
  },
  {
   "cell_type": "code",
   "execution_count": 8,
   "metadata": {},
   "outputs": [],
   "source": [
    "weights = torch.load('loss_weights.pt')"
   ]
  },
  {
   "cell_type": "markdown",
   "metadata": {},
   "source": [
    "## Load previously created files\n",
    "\n",
    "- `df_abnl` -> master `df` for use with Data Block API, also contains # of slices per series\n",
    "- `slice_stats` -> `dict` stored as `json` with mean and max # of slices per series"
   ]
  },
  {
   "cell_type": "code",
   "execution_count": 9,
   "metadata": {},
   "outputs": [
    {
     "data": {
      "text/html": [
       "<div>\n",
       "<style scoped>\n",
       "    .dataframe tbody tr th:only-of-type {\n",
       "        vertical-align: middle;\n",
       "    }\n",
       "\n",
       "    .dataframe tbody tr th {\n",
       "        vertical-align: top;\n",
       "    }\n",
       "\n",
       "    .dataframe thead th {\n",
       "        text-align: right;\n",
       "    }\n",
       "</style>\n",
       "<table border=\"1\" class=\"dataframe\">\n",
       "  <thead>\n",
       "    <tr style=\"text-align: right;\">\n",
       "      <th></th>\n",
       "      <th>Case</th>\n",
       "      <th>Abnormal</th>\n",
       "      <th>is_valid</th>\n",
       "      <th>coronal_slices</th>\n",
       "      <th>sagittal_slices</th>\n",
       "      <th>axial_slices</th>\n",
       "    </tr>\n",
       "  </thead>\n",
       "  <tbody>\n",
       "    <tr>\n",
       "      <th>0</th>\n",
       "      <td>train/0000</td>\n",
       "      <td>1</td>\n",
       "      <td>0</td>\n",
       "      <td>25</td>\n",
       "      <td>27</td>\n",
       "      <td>25</td>\n",
       "    </tr>\n",
       "    <tr>\n",
       "      <th>1</th>\n",
       "      <td>train/0001</td>\n",
       "      <td>1</td>\n",
       "      <td>0</td>\n",
       "      <td>22</td>\n",
       "      <td>23</td>\n",
       "      <td>28</td>\n",
       "    </tr>\n",
       "    <tr>\n",
       "      <th>2</th>\n",
       "      <td>train/0002</td>\n",
       "      <td>1</td>\n",
       "      <td>0</td>\n",
       "      <td>24</td>\n",
       "      <td>24</td>\n",
       "      <td>24</td>\n",
       "    </tr>\n",
       "    <tr>\n",
       "      <th>3</th>\n",
       "      <td>train/0003</td>\n",
       "      <td>1</td>\n",
       "      <td>0</td>\n",
       "      <td>22</td>\n",
       "      <td>21</td>\n",
       "      <td>25</td>\n",
       "    </tr>\n",
       "    <tr>\n",
       "      <th>4</th>\n",
       "      <td>train/0004</td>\n",
       "      <td>1</td>\n",
       "      <td>0</td>\n",
       "      <td>30</td>\n",
       "      <td>30</td>\n",
       "      <td>31</td>\n",
       "    </tr>\n",
       "  </tbody>\n",
       "</table>\n",
       "</div>"
      ],
      "text/plain": [
       "         Case  Abnormal  is_valid  coronal_slices  sagittal_slices  \\\n",
       "0  train/0000         1         0              25               27   \n",
       "1  train/0001         1         0              22               23   \n",
       "2  train/0002         1         0              24               24   \n",
       "3  train/0003         1         0              22               21   \n",
       "4  train/0004         1         0              30               30   \n",
       "\n",
       "   axial_slices  \n",
       "0            25  \n",
       "1            28  \n",
       "2            24  \n",
       "3            25  \n",
       "4            31  "
      ]
     },
     "execution_count": 9,
     "metadata": {},
     "output_type": "execute_result"
    }
   ],
   "source": [
    "df_abnl = pd.read_pickle('df_abnl.pkl')\n",
    "df_abnl.head()"
   ]
  },
  {
   "cell_type": "code",
   "execution_count": 10,
   "metadata": {},
   "outputs": [
    {
     "data": {
      "text/plain": [
       "{'coronal': {'mean': 29.6416, 'max': 57},\n",
       " 'sagittal': {'mean': 30.3776, 'max': 51},\n",
       " 'axial': {'mean': 34.2032, 'max': 61}}"
      ]
     },
     "execution_count": 10,
     "metadata": {},
     "output_type": "execute_result"
    }
   ],
   "source": [
    "with open('slice_stats.json', 'r') as file:\n",
    "    stats = json.load(file)\n",
    "    \n",
    "stats"
   ]
  },
  {
   "cell_type": "code",
   "execution_count": 11,
   "metadata": {},
   "outputs": [
    {
     "name": "stdout",
     "output_type": "stream",
     "text": [
      "51\n"
     ]
    }
   ],
   "source": [
    "max_slc = stats['sagittal']['max']\n",
    "print(max_slc)"
   ]
  },
  {
   "cell_type": "markdown",
   "metadata": {},
   "source": [
    "## MRNet implementation\n",
    "\n",
    "Modified from the original [paper](https://journals.plos.org/plosmedicine/article?id=10.1371/journal.pmed.1002699) to (sort of) work with `fastai`"
   ]
  },
  {
   "cell_type": "code",
   "execution_count": 12,
   "metadata": {},
   "outputs": [],
   "source": [
    "il = MR3DImageList.from_df(df_abnl, sag_path, suffix='.npy')"
   ]
  },
  {
   "cell_type": "code",
   "execution_count": 13,
   "metadata": {},
   "outputs": [
    {
     "data": {
      "text/plain": [
       "'../data/sagittal/train/0000.npy'"
      ]
     },
     "execution_count": 13,
     "metadata": {},
     "output_type": "execute_result"
    }
   ],
   "source": [
    "il.items[0]"
   ]
  },
  {
   "cell_type": "code",
   "execution_count": 14,
   "metadata": {},
   "outputs": [
    {
     "data": {
      "text/plain": [
       "MR3DImageList (1250 items)\n",
       "Image (51, 3, 256, 256),Image (51, 3, 256, 256),Image (51, 3, 256, 256),Image (51, 3, 256, 256),Image (51, 3, 256, 256)\n",
       "Path: ../data/sagittal"
      ]
     },
     "execution_count": 14,
     "metadata": {},
     "output_type": "execute_result"
    }
   ],
   "source": [
    "il"
   ]
  },
  {
   "cell_type": "code",
   "execution_count": 15,
   "metadata": {},
   "outputs": [
    {
     "data": {
      "text/plain": [
       "ItemLists;\n",
       "\n",
       "Train: MR3DImageList (1130 items)\n",
       "Image (51, 3, 256, 256),Image (51, 3, 256, 256),Image (51, 3, 256, 256),Image (51, 3, 256, 256),Image (51, 3, 256, 256)\n",
       "Path: ../data/sagittal;\n",
       "\n",
       "Valid: MR3DImageList (120 items)\n",
       "Image (51, 3, 256, 256),Image (51, 3, 256, 256),Image (51, 3, 256, 256),Image (51, 3, 256, 256),Image (51, 3, 256, 256)\n",
       "Path: ../data/sagittal;\n",
       "\n",
       "Test: None"
      ]
     },
     "execution_count": 15,
     "metadata": {},
     "output_type": "execute_result"
    }
   ],
   "source": [
    "sd = il.split_from_df(col=2)\n",
    "sd"
   ]
  },
  {
   "cell_type": "code",
   "execution_count": 16,
   "metadata": {},
   "outputs": [
    {
     "data": {
      "text/plain": [
       "LabelLists;\n",
       "\n",
       "Train: LabelList (1130 items)\n",
       "x: MR3DImageList\n",
       "Image (51, 3, 256, 256),Image (51, 3, 256, 256),Image (51, 3, 256, 256),Image (51, 3, 256, 256),Image (51, 3, 256, 256)\n",
       "y: CategoryList\n",
       "1,1,1,1,1\n",
       "Path: ../data/sagittal;\n",
       "\n",
       "Valid: LabelList (120 items)\n",
       "x: MR3DImageList\n",
       "Image (51, 3, 256, 256),Image (51, 3, 256, 256),Image (51, 3, 256, 256),Image (51, 3, 256, 256),Image (51, 3, 256, 256)\n",
       "y: CategoryList\n",
       "0,0,0,0,0\n",
       "Path: ../data/sagittal;\n",
       "\n",
       "Test: None"
      ]
     },
     "execution_count": 16,
     "metadata": {},
     "output_type": "execute_result"
    }
   ],
   "source": [
    "ll = sd.label_from_df(cols=1)\n",
    "ll"
   ]
  },
  {
   "cell_type": "code",
   "execution_count": 17,
   "metadata": {},
   "outputs": [],
   "source": [
    "# tfms = get_transforms()"
   ]
  },
  {
   "cell_type": "code",
   "execution_count": 18,
   "metadata": {},
   "outputs": [],
   "source": [
    "bs = 1\n",
    "data = ll.databunch(bs=bs)"
   ]
  },
  {
   "cell_type": "code",
   "execution_count": 19,
   "metadata": {},
   "outputs": [],
   "source": [
    "learn = mrnet_learner(data, MRNet(), opt_func=optim.Adam, loss_func=WtBCELoss(weights),\n",
    "                      callbacks=MRNetCallback(), metrics=accuracy)"
   ]
  },
  {
   "cell_type": "code",
   "execution_count": 20,
   "metadata": {},
   "outputs": [
    {
     "data": {
      "text/plain": [
       "======================================================================\n",
       "Layer (type)         Output Shape         Param #    Trainable \n",
       "======================================================================\n",
       "Conv2d               [64, 63, 63]         23,296     False     \n",
       "______________________________________________________________________\n",
       "ReLU                 [64, 63, 63]         0          False     \n",
       "______________________________________________________________________\n",
       "MaxPool2d            [64, 31, 31]         0          False     \n",
       "______________________________________________________________________\n",
       "Conv2d               [192, 31, 31]        307,392    False     \n",
       "______________________________________________________________________\n",
       "ReLU                 [192, 31, 31]        0          False     \n",
       "______________________________________________________________________\n",
       "MaxPool2d            [192, 15, 15]        0          False     \n",
       "______________________________________________________________________\n",
       "Conv2d               [384, 15, 15]        663,936    False     \n",
       "______________________________________________________________________\n",
       "ReLU                 [384, 15, 15]        0          False     \n",
       "______________________________________________________________________\n",
       "Conv2d               [256, 15, 15]        884,992    False     \n",
       "______________________________________________________________________\n",
       "ReLU                 [256, 15, 15]        0          False     \n",
       "______________________________________________________________________\n",
       "Conv2d               [256, 15, 15]        590,080    False     \n",
       "______________________________________________________________________\n",
       "ReLU                 [256, 15, 15]        0          False     \n",
       "______________________________________________________________________\n",
       "MaxPool2d            [256, 7, 7]          0          False     \n",
       "______________________________________________________________________\n",
       "AdaptiveAvgPool2d    [256, 1, 1]          0          False     \n",
       "______________________________________________________________________\n",
       "Linear               [1]                  257        True      \n",
       "______________________________________________________________________\n",
       "\n",
       "Total params: 2,469,953\n",
       "Total trainable params: 257\n",
       "Total non-trainable params: 2,469,696"
      ]
     },
     "execution_count": 20,
     "metadata": {},
     "output_type": "execute_result"
    }
   ],
   "source": [
    "learn.summary()"
   ]
  },
  {
   "cell_type": "code",
   "execution_count": 21,
   "metadata": {},
   "outputs": [
    {
     "data": {
      "text/html": [],
      "text/plain": [
       "<IPython.core.display.HTML object>"
      ]
     },
     "metadata": {},
     "output_type": "display_data"
    },
    {
     "name": "stdout",
     "output_type": "stream",
     "text": [
      "LR Finder is complete, type {learner_name}.recorder.plot() to see the graph.\n"
     ]
    }
   ],
   "source": [
    "learn.lr_find()"
   ]
  },
  {
   "cell_type": "code",
   "execution_count": 22,
   "metadata": {},
   "outputs": [
    {
     "data": {
      "image/png": "[encoded data removed]",
      "text/plain": [
       "<Figure size 432x288 with 1 Axes>"
      ]
     },
     "metadata": {
      "needs_background": "light"
     },
     "output_type": "display_data"
    }
   ],
   "source": [
    "learn.recorder.plot()"
   ]
  },
  {
   "cell_type": "code",
   "execution_count": 23,
   "metadata": {},
   "outputs": [
    {
     "data": {
      "text/html": [
       "<table border=\"1\" class=\"dataframe\">\n",
       "  <thead>\n",
       "    <tr style=\"text-align: left;\">\n",
       "      <th>epoch</th>\n",
       "      <th>train_loss</th>\n",
       "      <th>valid_loss</th>\n",
       "      <th>accuracy</th>\n",
       "      <th>time</th>\n",
       "    </tr>\n",
       "  </thead>\n",
       "  <tbody>\n",
       "    <tr>\n",
       "      <td>0</td>\n",
       "      <td>0.443489</td>\n",
       "      <td>0.453011</td>\n",
       "      <td>0.208333</td>\n",
       "      <td>08:15</td>\n",
       "    </tr>\n",
       "  </tbody>\n",
       "</table>"
      ],
      "text/plain": [
       "<IPython.core.display.HTML object>"
      ]
     },
     "metadata": {},
     "output_type": "display_data"
    }
   ],
   "source": [
    "learn.fit_one_cycle(1, 3e-4)"
   ]
  },
  {
   "cell_type": "markdown",
   "metadata": {},
   "source": [
    "Accuracy is terrible, but what do you expect out of a single linear layer...?"
   ]
  },
  {
   "cell_type": "code",
   "execution_count": 24,
   "metadata": {},
   "outputs": [],
   "source": [
    "learn.unfreeze()"
   ]
  },
  {
   "cell_type": "code",
   "execution_count": 25,
   "metadata": {},
   "outputs": [
    {
     "data": {
      "text/plain": [
       "======================================================================\n",
       "Layer (type)         Output Shape         Param #    Trainable \n",
       "======================================================================\n",
       "Conv2d               [64, 63, 63]         23,296     True      \n",
       "______________________________________________________________________\n",
       "ReLU                 [64, 63, 63]         0          False     \n",
       "______________________________________________________________________\n",
       "MaxPool2d            [64, 31, 31]         0          False     \n",
       "______________________________________________________________________\n",
       "Conv2d               [192, 31, 31]        307,392    True      \n",
       "______________________________________________________________________\n",
       "ReLU                 [192, 31, 31]        0          False     \n",
       "______________________________________________________________________\n",
       "MaxPool2d            [192, 15, 15]        0          False     \n",
       "______________________________________________________________________\n",
       "Conv2d               [384, 15, 15]        663,936    True      \n",
       "______________________________________________________________________\n",
       "ReLU                 [384, 15, 15]        0          False     \n",
       "______________________________________________________________________\n",
       "Conv2d               [256, 15, 15]        884,992    True      \n",
       "______________________________________________________________________\n",
       "ReLU                 [256, 15, 15]        0          False     \n",
       "______________________________________________________________________\n",
       "Conv2d               [256, 15, 15]        590,080    True      \n",
       "______________________________________________________________________\n",
       "ReLU                 [256, 15, 15]        0          False     \n",
       "______________________________________________________________________\n",
       "MaxPool2d            [256, 7, 7]          0          False     \n",
       "______________________________________________________________________\n",
       "AdaptiveAvgPool2d    [256, 1, 1]          0          False     \n",
       "______________________________________________________________________\n",
       "Linear               [1]                  257        True      \n",
       "______________________________________________________________________\n",
       "\n",
       "Total params: 2,469,953\n",
       "Total trainable params: 2,469,953\n",
       "Total non-trainable params: 0"
      ]
     },
     "execution_count": 25,
     "metadata": {},
     "output_type": "execute_result"
    }
   ],
   "source": [
    "learn.summary()"
   ]
  },
  {
   "cell_type": "code",
   "execution_count": null,
   "metadata": {},
   "outputs": [],
   "source": []
  }
 ],
 "metadata": {
  "kernelspec": {
   "display_name": "Python 3",
   "language": "python",
   "name": "python3"
  },
  "language_info": {
   "codemirror_mode": {
    "name": "ipython",
    "version": 3
   },
   "file_extension": ".py",
   "mimetype": "text/x-python",
   "name": "python",
   "nbconvert_exporter": "python",
   "pygments_lexer": "ipython3",
   "version": "3.7.2"
  }
 },
 "nbformat": 4,
 "nbformat_minor": 2
}
